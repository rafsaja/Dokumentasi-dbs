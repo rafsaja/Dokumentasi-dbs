{
  "cells": [
    {
      "cell_type": "markdown",
      "metadata": {},
      "source": [
        "# FOR\n"
      ]
    },
    {
      "cell_type": "code",
      "execution_count": 1,
      "metadata": {
        "trusted": true
      },
      "outputs": [
        {
          "name": "stdout",
          "output_type": "stream",
          "text": [
            "1\n",
            "2\n",
            "3\n",
            "4\n",
            "5\n",
            "6\n",
            "7\n",
            "8\n",
            "9\n",
            "10\n",
            "\n",
            "\n",
            "[1, 2, 3, 4, 5, 6, 7, 8, 9, 10]\n"
          ]
        }
      ],
      "source": [
        "angka= [1, 2, 3, 4, 5, 6, 7, 8, 9, 10]\n",
        "\n",
        "for j in angka:\n",
        "    print(j)\n",
        "    \n",
        "print(\"\\n\")\n",
        "print(angka)"
      ]
    },
    {
      "cell_type": "code",
      "execution_count": 2,
      "metadata": {
        "trusted": true
      },
      "outputs": [
        {
          "name": "stdout",
          "output_type": "stream",
          "text": [
            "R\n",
            "a\n",
            "f\n",
            "s\n",
            "a\n",
            "m\n",
            "j\n",
            "a\n",
            "n\n",
            "i\n",
            " \n",
            "A\n",
            "n\n",
            "u\n",
            "g\n",
            "r\n",
            "a\n",
            "h\n"
          ]
        }
      ],
      "source": [
        "nama = \"Rafsamjani Anugrah\"\n",
        "\n",
        "for j in nama :\n",
        "    print(j)"
      ]
    },
    {
      "cell_type": "markdown",
      "metadata": {},
      "source": [
        "### Range \n",
        "\n",
        "range ( start , stop , step )\n",
        "\n",
        "\"Start\" merupakan nilai awal dari urutan bilangan yang bersifat opsional, jika Anda tidak memasukkannya, nilai awal akan dianggap 0. \n",
        "\"Stop\" merupakan nilai batas yang wajib dimasukkan. Urutan akan berhenti sebelum mencapai nilai \"stop\" (eksklusif). \n",
        "\"Step\" merupakan nilai penambahan antara setiap dua bilangan dalam urutan yang bersifat opsional. Jika nilai tersebut tidak diberikan, secara default nilai yang dimasukkan adalah 1"
      ]
    },
    {
      "cell_type": "code",
      "execution_count": 3,
      "metadata": {
        "trusted": true
      },
      "outputs": [
        {
          "name": "stdout",
          "output_type": "stream",
          "text": [
            "18\n"
          ]
        }
      ],
      "source": [
        "length = len(nama)\n",
        "print(length)"
      ]
    },
    {
      "cell_type": "code",
      "execution_count": 4,
      "metadata": {
        "trusted": true
      },
      "outputs": [
        {
          "name": "stdout",
          "output_type": "stream",
          "text": [
            "0\n",
            "1\n",
            "2\n",
            "3\n",
            "4\n",
            "5\n",
            "6\n",
            "7\n",
            "8\n",
            "9\n"
          ]
        }
      ],
      "source": [
        "# range hanya untuk angka \n",
        "\n",
        "# r\n",
        "for j in range(10):\n",
        "    print(j)"
      ]
    },
    {
      "cell_type": "code",
      "execution_count": 5,
      "metadata": {
        "trusted": true
      },
      "outputs": [
        {
          "name": "stdout",
          "output_type": "stream",
          "text": [
            "0\n",
            "25\n",
            "50\n",
            "75\n",
            "100\n",
            "125\n",
            "150\n",
            "175\n"
          ]
        }
      ],
      "source": [
        "for i in range (0, 200 , 25):\n",
        "    print(i)"
      ]
    },
    {
      "cell_type": "markdown",
      "metadata": {},
      "source": [
        "# WHILE"
      ]
    },
    {
      "cell_type": "code",
      "execution_count": 6,
      "metadata": {
        "trusted": true
      },
      "outputs": [
        {
          "name": "stdout",
          "output_type": "stream",
          "text": [
            "0\n",
            "1000\n",
            "2000\n",
            "3000\n",
            "4000\n",
            "5000\n",
            "6000\n",
            "7000\n",
            "8000\n",
            "9000\n",
            "10000\n"
          ]
        }
      ],
      "source": [
        "jamaah_tarawih_permalam = 0\n",
        "\n",
        "while jamaah_tarawih_permalam <= 10000:\n",
        "    print(jamaah_tarawih_permalam)\n",
        "    jamaah_tarawih_permalam += 1000\n",
        "\n",
        "\n",
        "\n"
      ]
    },
    {
      "cell_type": "code",
      "execution_count": 14,
      "metadata": {
        "trusted": true
      },
      "outputs": [
        {
          "name": "stdout",
          "output_type": "stream",
          "text": [
            "100\n",
            "90\n",
            "80\n",
            "70\n",
            "60\n",
            "50\n",
            "40\n",
            "30\n",
            "20\n",
            "10\n"
          ]
        }
      ],
      "source": [
        "jamaah_tarawih_permalam = 100\n",
        "\n",
        "while jamaah_tarawih_permalam  >= 10:\n",
        "    print(jamaah_tarawih_permalam)\n",
        "    jamaah_tarawih_permalam -= 10\n"
      ]
    },
    {
      "cell_type": "markdown",
      "metadata": {
        "trusted": true
      },
      "source": [
        "# Nested Loop"
      ]
    },
    {
      "cell_type": "code",
      "execution_count": 16,
      "metadata": {},
      "outputs": [
        {
          "data": {
            "text/plain": [
              "'\\nfor variabel_luar in iterable_luar:\\n    for variabel_dalam in iterable_luar:\\n'"
            ]
          },
          "execution_count": 16,
          "metadata": {},
          "output_type": "execute_result"
        }
      ],
      "source": [
        "\"\"\"\n",
        "for variabel_luar in iterable_luar:\n",
        "    for variabel_dalam in iterable_luar:\n",
        "\"\"\""
      ]
    },
    {
      "cell_type": "code",
      "execution_count": 18,
      "metadata": {},
      "outputs": [
        {
          "name": "stdout",
          "output_type": "stream",
          "text": [
            "1 1\n",
            "1 2\n",
            "2 1\n",
            "2 2\n"
          ]
        }
      ],
      "source": [
        "for i in range(1, 3):\n",
        "    for j in range(1,3):\n",
        "        print(i,j)"
      ]
    },
    {
      "cell_type": "markdown",
      "metadata": {},
      "source": [
        "# Kontrol Perulangan"
      ]
    },
    {
      "cell_type": "markdown",
      "metadata": {},
      "source": [
        "### BREAK"
      ]
    },
    {
      "cell_type": "code",
      "execution_count": 21,
      "metadata": {},
      "outputs": [
        {
          "name": "stdout",
          "output_type": "stream",
          "text": [
            "Perulangan luar: 0\n",
            "Perulangan dalam: 0\n",
            "Perulangan dalam: 1\n",
            "Perulangan luar: 1\n",
            "Perulangan dalam: 0\n",
            "Perulangan dalam: 1\n"
          ]
        }
      ],
      "source": [
        "for i in range(2): # Tingkat Pertama\n",
        "    print(\"Perulangan luar:\", i)\n",
        "    for j in range(10):# Tingan Kedua\n",
        "        print(\"Perulangan dalam:\", j)\n",
        "        if j == 1:\n",
        "            break # Menghentikan perulangan dalma jika j = 1\n",
        "\n",
        "\"\"\"\n",
        "Pada kode di atas, kita melakukan perulangan untuk menampilkan bilangan 0 hingga 1 pada \"perulangan luar\" atau for pertama. Lalu, kita membuat perulangan kedua untuk menampilkan bilangan dari 0 hingga 9. Namun, pada perulangan kedua atau \"perulangan dalam\" tersebut, kita akan melakukan break jika bertemu angka \"1\". Alhasil, perulangan dalam hanya akan menampilkan angka hingga 1 saja. Program akan berhenti karena ada statement break yang diberikan jika bertemu angka \"1\".\n",
        "\"\"\""
      ]
    },
    {
      "cell_type": "code",
      "execution_count": 25,
      "metadata": {},
      "outputs": [
        {
          "name": "stdout",
          "output_type": "stream",
          "text": [
            "Huruf saat in: D\n",
            "Huruf saat in: i\n",
            "Huruf saat in: c\n",
            "Huruf saat in: o\n",
            "Huruf saat in:  \n",
            "Huruf saat in: d\n",
            "Huruf saat in: i\n",
            "Huruf saat in: n\n",
            "Huruf saat in: g\n"
          ]
        }
      ],
      "source": [
        "for huruf in 'Dico ding':\n",
        "    if huruf == '':\n",
        "        break\n",
        "    print('Huruf saat in: {}'.format(huruf))"
      ]
    },
    {
      "cell_type": "markdown",
      "metadata": {},
      "source": [
        "### Continue"
      ]
    },
    {
      "cell_type": "code",
      "execution_count": 26,
      "metadata": {},
      "outputs": [
        {
          "name": "stdout",
          "output_type": "stream",
          "text": [
            "Huruf saat ini: D\n",
            "Huruf saat ini: i\n",
            "Huruf saat ini: c\n",
            "Huruf saat ini: o\n",
            "Huruf saat ini: d\n",
            "Huruf saat ini: i\n",
            "Huruf saat ini: n\n",
            "Huruf saat ini: g\n"
          ]
        }
      ],
      "source": [
        "for huruf in 'Dico ding':\n",
        "    if huruf == ' ':\n",
        "        continue\n",
        "    print('Huruf saat ini: {}'.format(huruf))\n"
      ]
    },
    {
      "cell_type": "markdown",
      "metadata": {},
      "source": [
        "### Else setelah for"
      ]
    },
    {
      "cell_type": "code",
      "execution_count": 29,
      "metadata": {},
      "outputs": [
        {
          "name": "stdout",
          "output_type": "stream",
          "text": [
            "Angka Ditemukan! Program berheni\n"
          ]
        }
      ],
      "source": [
        "numbers = [10, 11, 12, 13, 15]\n",
        "\n",
        "for i in numbers:\n",
        "    if i == 15:\n",
        "        print(\"Angka Ditemukan! Program berheni\")\n",
        "        break\n",
        "else:\n",
        "    print(\"Angka tidak temukan.\")\n"
      ]
    },
    {
      "cell_type": "markdown",
      "metadata": {},
      "source": [
        "### Else setelah While"
      ]
    },
    {
      "cell_type": "code",
      "execution_count": 33,
      "metadata": {},
      "outputs": [
        {
          "name": "stdout",
          "output_type": "stream",
          "text": [
            "Sudah lelah mengejar, ill give up\n",
            "Sudah lelah mengejar, ill give up\n",
            "Sudah lelah mengejar, ill give up\n",
            "Sudah lelah mengejar, ill give up\n",
            "Sudah lelah mengejar, ill give up\n",
            "Blok else dieksekusi karena pada blok pertama sudah sesuai diminta kondisi\n"
          ]
        }
      ],
      "source": [
        "count = 0 \n",
        "\n",
        "while count < 5:\n",
        "    print(\"Sudah lelah mengejar, ill give up\")\n",
        "    count += 1\n",
        "else: \n",
        "    print(\"Blok else dieksekusi karena pada blok pertama sudah sesuai diminta kondisi\")"
      ]
    },
    {
      "cell_type": "code",
      "execution_count": 34,
      "metadata": {},
      "outputs": [
        {
          "name": "stdout",
          "output_type": "stream",
          "text": [
            "9\n",
            "8\n"
          ]
        }
      ],
      "source": [
        "n = 10\n",
        "while n > 0:\n",
        "    n = n-1\n",
        "    if n ==7:\n",
        "        break\n",
        "    print(n)\n",
        "else:\n",
        "    print(\"Loop selesai\")"
      ]
    },
    {
      "cell_type": "markdown",
      "metadata": {},
      "source": [
        "### PASS"
      ]
    },
    {
      "cell_type": "code",
      "execution_count": 38,
      "metadata": {},
      "outputs": [
        {
          "data": {
            "text/plain": [
              "'\\nStatement pass digunakan dalam situasi-situasi ketika Python memerlukan adanya pernyataan, tetapi tidak memiliki tindakan yang perlu dilakukan pada saat itu. Biasanya itu adalah kondisi ketika Anda membutuhkan placeholder untuk menunjukkan bahwa tidak ada operasi yang perlu dilakukan. Hal ini dapat membantu kita mengatur struktur kode secara rapi dan memungkinkan penambahan implementasi di kemudian hari.\\n'"
            ]
          },
          "execution_count": 38,
          "metadata": {},
          "output_type": "execute_result"
        }
      ],
      "source": [
        "x = 10\n",
        "\n",
        "if x > 6:\n",
        "    pass\n",
        "else:\n",
        "    print(\"Nilai X tidak memenuhei kondisi\")\n",
        "\n",
        "\"\"\"\n",
        "Statement pass digunakan dalam situasi-situasi ketika Python memerlukan adanya pernyataan, tetapi tidak memiliki tindakan yang perlu dilakukan pada saat itu. Biasanya itu adalah kondisi ketika Anda membutuhkan placeholder untuk menunjukkan bahwa tidak ada operasi yang perlu dilakukan. Hal ini dapat membantu kita mengatur struktur kode secara rapi dan memungkinkan penambahan implementasi di kemudian hari.\n",
        "\"\"\""
      ]
    },
    {
      "cell_type": "markdown",
      "metadata": {},
      "source": [
        "### List Comprehension"
      ]
    },
    {
      "cell_type": "code",
      "execution_count": 41,
      "metadata": {},
      "outputs": [
        {
          "name": "stdout",
          "output_type": "stream",
          "text": [
            "[1, 4, 9, 16, 25]\n"
          ]
        }
      ],
      "source": [
        "# For biasa\n",
        "angka = [1, 2, 3, 4, 5]\n",
        "pangkat = []\n",
        "\n",
        "for n in angka:\n",
        "    pangkat.append(n**2)\n",
        "print(pangkat)"
      ]
    },
    {
      "cell_type": "code",
      "execution_count": 44,
      "metadata": {},
      "outputs": [
        {
          "name": "stdout",
          "output_type": "stream",
          "text": [
            "[1, 2, 3, 4, 5]\n"
          ]
        }
      ],
      "source": [
        "# Comprehension\n",
        "\n",
        "angka= [1, 2, 3, 4, 5]\n",
        "pangkat =[n**2 for i in angka]\n",
        "\n",
        "print(angka)"
      ]
    },
    {
      "cell_type": "code",
      "execution_count": 45,
      "metadata": {},
      "outputs": [],
      "source": [
        "# new_list = [ekpresi,  for loop one or more conditions ]"
      ]
    },
    {
      "cell_type": "markdown",
      "metadata": {},
      "source": []
    }
  ],
  "metadata": {
    "kernelspec": {
      "display_name": "Python 3",
      "language": "python",
      "name": "python3"
    },
    "language_info": {
      "codemirror_mode": {
        "name": "ipython",
        "version": 3
      },
      "file_extension": ".py",
      "mimetype": "text/x-python",
      "name": "python",
      "nbconvert_exporter": "python",
      "pygments_lexer": "ipython3",
      "version": "3.12.1"
    }
  },
  "nbformat": 4,
  "nbformat_minor": 4
}
