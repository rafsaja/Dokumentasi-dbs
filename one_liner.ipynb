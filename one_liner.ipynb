{
  "metadata": {
    "kernelspec": {
      "name": "python",
      "display_name": "Python (Pyodide)",
      "language": "python"
    },
    "language_info": {
      "codemirror_mode": {
        "name": "python",
        "version": 3
      },
      "file_extension": ".py",
      "mimetype": "text/x-python",
      "name": "python",
      "nbconvert_exporter": "python",
      "pygments_lexer": "ipython3",
      "version": "3.8"
    }
  },
  "nbformat_minor": 4,
  "nbformat": 4,
  "cells": [
    {
      "cell_type": "code",
      "source": "x = 1\ny = 2\n\ntemp = x\nx = y\ny = temp\n\nprint(\"Setelah pertukaran: \")\nprint(\"x=\", x)\nprint(\"y=\", y)",
      "metadata": {
        "trusted": true
      },
      "outputs": [
        {
          "name": "stdout",
          "text": "Setelah pertukaran: \nx= 2\ny= 1\n",
          "output_type": "stream"
        }
      ],
      "execution_count": 2
    },
    {
      "cell_type": "code",
      "source": "x = 1\ny = 2\n\nx, y= y, x # one liner\n\nprint('x=', x)\nprint('y=', y)",
      "metadata": {
        "trusted": true
      },
      "outputs": [
        {
          "name": "stdout",
          "text": "x= 2\ny= 1\n",
          "output_type": "stream"
        }
      ],
      "execution_count": 3
    },
    {
      "cell_type": "markdown",
      "source": "# Ternary Operators",
      "metadata": {}
    },
    {
      "cell_type": "code",
      "source": "# versi if \n\nkkm= 60\nif kkm >= 70:\n    print(\"Lulus\")\nelse:\n    print(\"Gagal\")\n    ",
      "metadata": {
        "trusted": true
      },
      "outputs": [
        {
          "name": "stdout",
          "text": "Gagal\n",
          "output_type": "stream"
        }
      ],
      "execution_count": 10
    },
    {
      "cell_type": "code",
      "source": "# Versi Ternary Operators \n\nprint(\"Lulus\") if kkm >= 70 else print(\"Gagal\")",
      "metadata": {
        "trusted": true
      },
      "outputs": [
        {
          "name": "stdout",
          "text": "Gagal\n",
          "output_type": "stream"
        }
      ],
      "execution_count": 11
    },
    {
      "cell_type": "code",
      "source": "usia_anak = 11\nprint(\"Boleh masuk\") if usia_anak ==  12 else print(\"Tidak Boleh Masuk\")",
      "metadata": {
        "trusted": true
      },
      "outputs": [
        {
          "name": "stdout",
          "text": "Tidak Boleh Masuk\n",
          "output_type": "stream"
        }
      ],
      "execution_count": 8
    },
    {
      "cell_type": "markdown",
      "source": "### Kesimpulan \n\n1. versi if : jika sesuai syarat A maka lakukan aksi A jika tidak maka lakukan aksi B\n2. versi ternary operator : Lakukan aksi A , jika syarat sesuai aksi A selain itu lakukan aksi B\n\n3. ",
      "metadata": {}
    },
    {
      "cell_type": "code",
      "source": "",
      "metadata": {
        "trusted": true
      },
      "outputs": [],
      "execution_count": null
    }
  ]
}